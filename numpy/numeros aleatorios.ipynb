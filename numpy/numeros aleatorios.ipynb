{
 "cells": [
  {
   "cell_type": "code",
   "execution_count": 1,
   "metadata": {},
   "outputs": [],
   "source": [
    "import numpy as np"
   ]
  },
  {
   "cell_type": "code",
   "execution_count": 5,
   "metadata": {},
   "outputs": [
    {
     "data": {
      "text/plain": [
       "array([0.80270999, 0.21009226, 0.68927094, 0.50345047, 0.53948405])"
      ]
     },
     "execution_count": 5,
     "metadata": {},
     "output_type": "execute_result"
    }
   ],
   "source": [
    "np.random.rand(5) #entre 0 y 1 por defecto"
   ]
  },
  {
   "cell_type": "code",
   "execution_count": 8,
   "metadata": {},
   "outputs": [
    {
     "data": {
      "text/plain": [
       "array([[0.82273396, 0.03717512, 0.69289605, 0.4468683 ],\n",
       "       [0.33301127, 0.16509779, 0.13408715, 0.13093532],\n",
       "       [0.80700287, 0.56662217, 0.59068569, 0.19210631]])"
      ]
     },
     "execution_count": 8,
     "metadata": {},
     "output_type": "execute_result"
    }
   ],
   "source": [
    "np.random.rand(3,4) # dos dimensiones"
   ]
  },
  {
   "cell_type": "code",
   "execution_count": 9,
   "metadata": {},
   "outputs": [
    {
     "data": {
      "text/plain": [
       "array([ 0.79264744,  0.35277683, -0.44762983, -1.30759597])"
      ]
     },
     "execution_count": 9,
     "metadata": {},
     "output_type": "execute_result"
    }
   ],
   "source": [
    "np.random.randn(4) #cuatro elementos con distribución normal, valores tanto negativos como positivos"
   ]
  },
  {
   "cell_type": "code",
   "execution_count": 11,
   "metadata": {},
   "outputs": [
    {
     "data": {
      "text/plain": [
       "array([[-5.46253508, -2.28082144],\n",
       "       [ 2.20584143, -2.72430225],\n",
       "       [ 3.41576393,  5.12066668],\n",
       "       [-6.40258033, -3.63291379]])"
      ]
     },
     "execution_count": 11,
     "metadata": {},
     "output_type": "execute_result"
    }
   ],
   "source": [
    "2.5*np.random.randn(4,2)"
   ]
  },
  {
   "cell_type": "markdown",
   "metadata": {},
   "source": [
    "# Números aleatorios enteros, randint"
   ]
  },
  {
   "cell_type": "code",
   "execution_count": 14,
   "metadata": {},
   "outputs": [
    {
     "data": {
      "text/plain": [
       "7"
      ]
     },
     "execution_count": 14,
     "metadata": {},
     "output_type": "execute_result"
    }
   ],
   "source": [
    "np.random.randint(1,20) #entre 1 y 19"
   ]
  },
  {
   "cell_type": "code",
   "execution_count": 15,
   "metadata": {},
   "outputs": [
    {
     "data": {
      "text/plain": [
       "array([ 8, 17, 18,  4,  9,  1, 15, 19, 12,  8,  7, 14,  1, 17,  2, 19, 11,\n",
       "        4,  7, 10,  3, 14, 17,  2,  1,  5,  7, 17,  3, 15,  2, 11, 14, 13,\n",
       "        5,  2,  1, 18,  3,  1,  3, 19,  3,  4,  9, 11, 10,  6, 13,  9,  6,\n",
       "       11, 12,  8, 15, 16,  5,  1, 14, 15, 13,  9, 15, 12,  2, 18,  4, 11,\n",
       "       19, 12, 12, 17,  6,  9, 14,  9,  1, 10, 14, 18,  8,  8, 10,  9,  7,\n",
       "       14,  2, 19,  3,  7, 19,  5,  6,  7,  8, 10,  5,  7, 12, 17])"
      ]
     },
     "execution_count": 15,
     "metadata": {},
     "output_type": "execute_result"
    }
   ],
   "source": [
    "np.random.randint(1,20,100)"
   ]
  },
  {
   "cell_type": "code",
   "execution_count": null,
   "metadata": {},
   "outputs": [],
   "source": []
  }
 ],
 "metadata": {
  "kernelspec": {
   "display_name": "Python 3",
   "language": "python",
   "name": "python3"
  },
  "language_info": {
   "codemirror_mode": {
    "name": "ipython",
    "version": 3
   },
   "file_extension": ".py",
   "mimetype": "text/x-python",
   "name": "python",
   "nbconvert_exporter": "python",
   "pygments_lexer": "ipython3",
   "version": "3.7.3"
  }
 },
 "nbformat": 4,
 "nbformat_minor": 2
}
