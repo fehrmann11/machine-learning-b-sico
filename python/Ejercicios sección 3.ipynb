{
 "cells": [
  {
   "cell_type": "markdown",
   "metadata": {},
   "source": [
    "1)Dada la siguiente frase\n",
    "\n",
    " frase = 'Hola, este es un curso básico de python'\n",
    " \n",
    "Divide la frase en palabras y cuenta el número de palabras qeu contiene esa frase\n",
    "\n",
    "muestra el resultado mediante 'print' de esta forma \n",
    "\n",
    " El número de palabras es...."
   ]
  },
  {
   "cell_type": "code",
   "execution_count": 2,
   "metadata": {},
   "outputs": [
    {
     "data": {
      "text/plain": [
       "'Hola, este es un curso básico de python'"
      ]
     },
     "execution_count": 2,
     "metadata": {},
     "output_type": "execute_result"
    }
   ],
   "source": [
    "frase='Hola, este es un curso básico de python'\n",
    "frase"
   ]
  },
  {
   "cell_type": "code",
   "execution_count": 4,
   "metadata": {},
   "outputs": [
    {
     "data": {
      "text/plain": [
       "['Hola,', 'este', 'es', 'un', 'curso', 'básico', 'de', 'python']"
      ]
     },
     "execution_count": 4,
     "metadata": {},
     "output_type": "execute_result"
    }
   ],
   "source": [
    "division = frase.split()\n",
    "division"
   ]
  },
  {
   "cell_type": "code",
   "execution_count": 9,
   "metadata": {},
   "outputs": [
    {
     "name": "stdout",
     "output_type": "stream",
     "text": [
      "El número de palabra es 8\n"
     ]
    }
   ],
   "source": [
    "cont =0\n",
    "for elemento in division:\n",
    "    cont = cont+1\n",
    "print('El número de palabra es {}'.format(cont))"
   ]
  },
  {
   "cell_type": "markdown",
   "metadata": {},
   "source": [
    "Dada la siguiente lista<br>\n",
    "   Lista = [1,-1,4,-15,9,7,6,-3,2,-20]<br>\n",
    "Crear una función \"positivo\" que pasando como parametro un número, lo devuelve tal cual si es positivo,<br>\n",
    "o no devuelve nada si el numero es negativo<br>\n",
    "Crear una nueva lista 'lista2', que mediante 'filter', contenga solo los números positivos de la lista inicial"
   ]
  },
  {
   "cell_type": "code",
   "execution_count": 11,
   "metadata": {},
   "outputs": [
    {
     "data": {
      "text/plain": [
       "[1, -1, 4, -15, 9, 7, 6, -3, 2, -20]"
      ]
     },
     "execution_count": 11,
     "metadata": {},
     "output_type": "execute_result"
    }
   ],
   "source": [
    "lista = [1,-1,4,-15,9,7,6,-3,2,-20]\n",
    "lista"
   ]
  },
  {
   "cell_type": "code",
   "execution_count": 15,
   "metadata": {},
   "outputs": [],
   "source": [
    "def positivo(numero):\n",
    "    if(numero >=0):\n",
    "        return numero\n"
   ]
  },
  {
   "cell_type": "code",
   "execution_count": 16,
   "metadata": {},
   "outputs": [
    {
     "data": {
      "text/plain": [
       "[1, 4, 9, 7, 6, 2]"
      ]
     },
     "execution_count": 16,
     "metadata": {},
     "output_type": "execute_result"
    }
   ],
   "source": [
    "lista2=list(filter(positivo,lista))\n",
    "lista2"
   ]
  },
  {
   "cell_type": "markdown",
   "metadata": {},
   "source": [
    "3.- Dada la siguiente lista de palabras, <br>\n",
    " lista =['manzana','platano','melocoton','pera','manzana','pera','limon','platano','naranja'] <br>\n",
    "crea una nueva lista \"lista sin duplicados\" eliminando las palabras repetidas<br>\n",
    "Pista: utilizar conjuntos"
   ]
  },
  {
   "cell_type": "code",
   "execution_count": 19,
   "metadata": {},
   "outputs": [
    {
     "data": {
      "text/plain": [
       "['manzana',\n",
       " 'platano',\n",
       " 'melocoton',\n",
       " 'pera',\n",
       " 'manzana',\n",
       " 'pera',\n",
       " 'limon',\n",
       " 'platano',\n",
       " 'naranja']"
      ]
     },
     "execution_count": 19,
     "metadata": {},
     "output_type": "execute_result"
    }
   ],
   "source": [
    "listas =['manzana','platano','melocoton','pera','manzana','pera','limon','platano','naranja']\n",
    "listas"
   ]
  },
  {
   "cell_type": "code",
   "execution_count": 23,
   "metadata": {},
   "outputs": [
    {
     "data": {
      "text/plain": [
       "{'limon', 'manzana', 'melocoton', 'naranja', 'pera', 'platano'}"
      ]
     },
     "execution_count": 23,
     "metadata": {},
     "output_type": "execute_result"
    }
   ],
   "source": [
    "conjunto = set(listas) #transformar de lista a conjunto, y el conjunto borra los duplicados \n",
    "conjunto"
   ]
  },
  {
   "cell_type": "code",
   "execution_count": 24,
   "metadata": {},
   "outputs": [
    {
     "data": {
      "text/plain": [
       "['pera', 'platano', 'naranja', 'limon', 'melocoton', 'manzana']"
      ]
     },
     "execution_count": 24,
     "metadata": {},
     "output_type": "execute_result"
    }
   ],
   "source": [
    "#añadir un en una lista nueva los datos de un conjunto\n",
    "lista_sin_duplicados = []\n",
    "for elemento in conjunto:\n",
    "    lista_sin_duplicados.append(elemento)\n",
    "lista_sin_duplicados"
   ]
  },
  {
   "cell_type": "markdown",
   "metadata": {},
   "source": [
    "4.- Crear una función \"dividir_entre_dos, que divide un número entre el número 2\" y devuelve el resultado. <br>\n",
    "Dada la siguiente lista=[20,18,8,4,10,40,6] <br>\n",
    "Crear una nueva lista \"lista2\" que mediante la función \"map\" aplique la función \"dividir_entre_dos\" a cada elemento de la lista\n"
   ]
  },
  {
   "cell_type": "code",
   "execution_count": 26,
   "metadata": {},
   "outputs": [],
   "source": [
    "def dividir_entre_dos(numero):\n",
    "    return numero/2"
   ]
  },
  {
   "cell_type": "code",
   "execution_count": 27,
   "metadata": {},
   "outputs": [
    {
     "data": {
      "text/plain": [
       "[20, 18, 8, 4, 10, 40, 6]"
      ]
     },
     "execution_count": 27,
     "metadata": {},
     "output_type": "execute_result"
    }
   ],
   "source": [
    "lista_n=[20,18,8,4,10,40,6]\n",
    "lista_n"
   ]
  },
  {
   "cell_type": "code",
   "execution_count": 28,
   "metadata": {},
   "outputs": [
    {
     "data": {
      "text/plain": [
       "[10.0, 9.0, 4.0, 2.0, 5.0, 20.0, 3.0]"
      ]
     },
     "execution_count": 28,
     "metadata": {},
     "output_type": "execute_result"
    }
   ],
   "source": [
    "lista_nueva = list(map(dividir_entre_dos,lista_n))\n",
    "lista_nueva"
   ]
  },
  {
   "cell_type": "code",
   "execution_count": null,
   "metadata": {},
   "outputs": [],
   "source": []
  }
 ],
 "metadata": {
  "kernelspec": {
   "display_name": "Python 3",
   "language": "python",
   "name": "python3"
  },
  "language_info": {
   "codemirror_mode": {
    "name": "ipython",
    "version": 3
   },
   "file_extension": ".py",
   "mimetype": "text/x-python",
   "name": "python",
   "nbconvert_exporter": "python",
   "pygments_lexer": "ipython3",
   "version": "3.7.3"
  }
 },
 "nbformat": 4,
 "nbformat_minor": 2
}
