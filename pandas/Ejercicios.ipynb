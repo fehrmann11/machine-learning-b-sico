{
 "cells": [
  {
   "cell_type": "code",
   "execution_count": 12,
   "metadata": {},
   "outputs": [],
   "source": [
    "#importa numpy y pandas\n",
    "import numpy as np\n",
    "import pandas as pd"
   ]
  },
  {
   "cell_type": "markdown",
   "metadata": {},
   "source": [
    "Crea una lista \"asignaturas\" con los textos \"matematicas\",\"fisica\", \"historia\" <br>\n",
    "Crea una lista \"notas\" con los valores 9,9,8 <br>\n",
    "Crea una serie con la lista \"notas\" como valores, y la lista \"asignaturas\" como indices<br>\n",
    "crea una variable \"nota_fisica\" con la nota de la asignatura de \"fisica\"<br>\n",
    "Mediante el método \"print\" muestra la frase \"La nota de fisica es un\" (sustituir... por la nota de física)"
   ]
  },
  {
   "cell_type": "code",
   "execution_count": 2,
   "metadata": {},
   "outputs": [
    {
     "data": {
      "text/plain": [
       "['matematicas', 'fisica', 'historia']"
      ]
     },
     "execution_count": 2,
     "metadata": {},
     "output_type": "execute_result"
    }
   ],
   "source": [
    "asignaturas = \"matematicas fisica historia\".split()\n",
    "asignaturas"
   ]
  },
  {
   "cell_type": "code",
   "execution_count": 3,
   "metadata": {},
   "outputs": [
    {
     "data": {
      "text/plain": [
       "[9, 9, 8]"
      ]
     },
     "execution_count": 3,
     "metadata": {},
     "output_type": "execute_result"
    }
   ],
   "source": [
    "notas = [9,9,8]\n",
    "notas"
   ]
  },
  {
   "cell_type": "code",
   "execution_count": 6,
   "metadata": {},
   "outputs": [],
   "source": [
    "serie = pd.Series(notas,asignaturas)"
   ]
  },
  {
   "cell_type": "code",
   "execution_count": 8,
   "metadata": {},
   "outputs": [
    {
     "data": {
      "text/plain": [
       "9"
      ]
     },
     "execution_count": 8,
     "metadata": {},
     "output_type": "execute_result"
    }
   ],
   "source": [
    "nota_fisica = serie['fisica']\n",
    "nota_fisica"
   ]
  },
  {
   "cell_type": "code",
   "execution_count": 10,
   "metadata": {},
   "outputs": [
    {
     "name": "stdout",
     "output_type": "stream",
     "text": [
      "La nota de fisica es: 9\n"
     ]
    }
   ],
   "source": [
    "print('La nota de fisica es:', nota_fisica)"
   ]
  },
  {
   "cell_type": "markdown",
   "metadata": {},
   "source": [
    "El objetivo será crar un dataframe con las ventas de nuestras 3 oficinas para los meses de enero, febrero y marzo.<br>\n",
    "Pasos a seguir: <br>\n",
    "Crea una variable \"ventas_enero\" que contenga una lista de 3 números enteros aleatorios entre 100 y 500<br>\n",
    "Crea una variable \"ventas_febrero\" que contenga una lista de 3 números enteros aleatorios entre 100 y 500<br>\n",
    "Crea una variable \"ventas_marzo\" que contenga una lista de 3 números enteros aleatorios entre 100 y 500<br>\n",
    "Crea una variable \"filas\" que contenga esta lista de palabras: 'ventas_enero','ventas_febrero','ventas_marzo'<br>\n",
    "Crea una variable \"columnas\" que contenga esta lista de palabras: 'oficina_1','oficina_2','oficina_3'<br>\n",
    "Crea una variable \"ventas\" que contenga esta lista con los valores de enero, febrero y marzo<br>\n",
    "Crea una variable \"df\" que contenga las ventas,filas y columnas<br>\n",
    "Mediante print muestra el valor de \"las ventas de enero para la oficina 1 son de ...\"<br>"
   ]
  },
  {
   "cell_type": "code",
   "execution_count": 22,
   "metadata": {},
   "outputs": [
    {
     "name": "stdout",
     "output_type": "stream",
     "text": [
      "[277 111 273] [409 343 370] [287 272 482]\n"
     ]
    }
   ],
   "source": [
    "#creación de array de 3 números randoms\n",
    "ventas_enero = np.random.randint(100,500,size=3)\n",
    "ventas_febrero = np.random.randint(100,500,size=3)\n",
    "ventas_marzo = np.random.randint(100,500,size=3)\n",
    "\n",
    "print(ventas_enero,ventas_febrero,ventas_marzo)"
   ]
  },
  {
   "cell_type": "code",
   "execution_count": 23,
   "metadata": {},
   "outputs": [
    {
     "data": {
      "text/plain": [
       "['ventas_enero', 'ventas_febrero', 'ventas_marzo']"
      ]
     },
     "execution_count": 23,
     "metadata": {},
     "output_type": "execute_result"
    }
   ],
   "source": [
    "#cración del indice\n",
    "filas = 'ventas_enero ventas_febrero ventas_marzo'.split()\n",
    "filas"
   ]
  },
  {
   "cell_type": "code",
   "execution_count": 24,
   "metadata": {},
   "outputs": [
    {
     "data": {
      "text/plain": [
       "['oficina_1', 'oficina_2', 'oficina_3']"
      ]
     },
     "execution_count": 24,
     "metadata": {},
     "output_type": "execute_result"
    }
   ],
   "source": [
    "#creación del nombre de la columna\n",
    "columnas = 'oficina_1 oficina_2 oficina_3'.split()\n",
    "columnas"
   ]
  },
  {
   "cell_type": "code",
   "execution_count": 25,
   "metadata": {},
   "outputs": [
    {
     "data": {
      "text/plain": [
       "[array([277, 111, 273]), array([409, 343, 370]), array([287, 272, 482])]"
      ]
     },
     "execution_count": 25,
     "metadata": {},
     "output_type": "execute_result"
    }
   ],
   "source": [
    "#lo en un array más grandee 3x3\n",
    "ventas = [ventas_enero,ventas_febrero,ventas_marzo]\n",
    "ventas"
   ]
  },
  {
   "cell_type": "code",
   "execution_count": 27,
   "metadata": {},
   "outputs": [
    {
     "data": {
      "text/html": [
       "<div>\n",
       "<style scoped>\n",
       "    .dataframe tbody tr th:only-of-type {\n",
       "        vertical-align: middle;\n",
       "    }\n",
       "\n",
       "    .dataframe tbody tr th {\n",
       "        vertical-align: top;\n",
       "    }\n",
       "\n",
       "    .dataframe thead th {\n",
       "        text-align: right;\n",
       "    }\n",
       "</style>\n",
       "<table border=\"1\" class=\"dataframe\">\n",
       "  <thead>\n",
       "    <tr style=\"text-align: right;\">\n",
       "      <th></th>\n",
       "      <th>oficina_1</th>\n",
       "      <th>oficina_2</th>\n",
       "      <th>oficina_3</th>\n",
       "    </tr>\n",
       "  </thead>\n",
       "  <tbody>\n",
       "    <tr>\n",
       "      <th>ventas_enero</th>\n",
       "      <td>277</td>\n",
       "      <td>111</td>\n",
       "      <td>273</td>\n",
       "    </tr>\n",
       "    <tr>\n",
       "      <th>ventas_febrero</th>\n",
       "      <td>409</td>\n",
       "      <td>343</td>\n",
       "      <td>370</td>\n",
       "    </tr>\n",
       "    <tr>\n",
       "      <th>ventas_marzo</th>\n",
       "      <td>287</td>\n",
       "      <td>272</td>\n",
       "      <td>482</td>\n",
       "    </tr>\n",
       "  </tbody>\n",
       "</table>\n",
       "</div>"
      ],
      "text/plain": [
       "                oficina_1  oficina_2  oficina_3\n",
       "ventas_enero          277        111        273\n",
       "ventas_febrero        409        343        370\n",
       "ventas_marzo          287        272        482"
      ]
     },
     "execution_count": 27,
     "metadata": {},
     "output_type": "execute_result"
    }
   ],
   "source": [
    "df = pd.DataFrame(ventas,index=filas,columns=columnas)\n",
    "df"
   ]
  },
  {
   "cell_type": "code",
   "execution_count": 35,
   "metadata": {},
   "outputs": [
    {
     "name": "stdout",
     "output_type": "stream",
     "text": [
      "Las ventas de enero para la oficina 1 son de 277\n"
     ]
    }
   ],
   "source": [
    "enero_of1 = df['oficina_1']['ventas_enero'] #columna y luego fila\n",
    "\n",
    "print ('Las ventas de enero para la oficina 1 son de',enero_of1) "
   ]
  }
 ],
 "metadata": {
  "kernelspec": {
   "display_name": "Python 3",
   "language": "python",
   "name": "python3"
  },
  "language_info": {
   "codemirror_mode": {
    "name": "ipython",
    "version": 3
   },
   "file_extension": ".py",
   "mimetype": "text/x-python",
   "name": "python",
   "nbconvert_exporter": "python",
   "pygments_lexer": "ipython3",
   "version": "3.7.3"
  }
 },
 "nbformat": 4,
 "nbformat_minor": 2
}
